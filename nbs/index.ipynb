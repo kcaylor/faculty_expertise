{
 "cells": [
  {
   "cell_type": "code",
   "execution_count": null,
   "metadata": {},
   "outputs": [],
   "source": [
    "#| hide\n",
    "from faculty_expertise.core import *"
   ]
  },
  {
   "cell_type": "markdown",
   "metadata": {},
   "source": [
    "# UCSB Faculty Directory\n",
    "\n",
    "> A tool for scraping, structuring, and enriching faculty data from UCSB departmental websites."
   ]
  },
  {
   "cell_type": "markdown",
   "metadata": {},
   "source": [
    "## Project Goals\n",
    "\n",
    "This project aims to create a structured database of faculty information from UC Santa Barbara's departmental websites, including:\n",
    "\n",
    "1. Basic contact information (name, title, email, office, etc.)\n",
    "2. Research specializations and expertise\n",
    "3. Structured summaries of faculty research using AI\n",
    "4. Department and inter-departmental relationships\n",
    "\n",
    "The project uses a notebook-driven development approach with [nbdev](https://nbdev.fast.ai) to maintain well-documented, tested code with rich explanatory context."
   ]
  },
  {
   "cell_type": "markdown",
   "metadata": {},
   "source": [
    "## Features\n",
    "\n",
    "- Specialized scrapers for different department website layouts (Drupal, WordPress, custom)\n",
    "- Flexible `Unit` class to manage department-specific scraping and enrichment\n",
    "- AI-powered faculty research summarization (using OpenAI)\n",
    "- Utilities for crawling and analyzing faculty websites\n",
    "- Modular design for easy extension to additional departments"
   ]
  },
  {
   "cell_type": "markdown",
   "metadata": {},
   "source": [
    "## Developer Guide\n",
    "\n",
    "If you are new to using `nbdev` here are some useful pointers to get you started."
   ]
  },
  {
   "cell_type": "markdown",
   "metadata": {},
   "source": [
    "### Install faculty_expertise in Development mode\n",
    "\n",
    "```sh\n",
    "# make sure faculty_expertise package is installed in development mode\n",
    "$ pip install -e .\n",
    "\n",
    "# make changes under nbs/ directory\n",
    "# ...\n",
    "\n",
    "# compile to have changes apply to faculty_expertise\n",
    "$ nbdev_prepare\n",
    "```"
   ]
  },
  {
   "cell_type": "markdown",
   "metadata": {},
   "source": [
    "## Usage"
   ]
  },
  {
   "cell_type": "markdown",
   "metadata": {},
   "source": [
    "### Installation\n",
    "\n",
    "Install latest from the GitHub [repository][repo]:\n",
    "\n",
    "```sh\n",
    "$ pip install git+https://github.com/caylor/faculty_expertise.git\n",
    "```\n",
    "\n",
    "or from [conda][conda]\n",
    "\n",
    "```sh\n",
    "$ conda install -c caylor faculty_expertise\n",
    "```\n",
    "\n",
    "or from [pypi][pypi]\n",
    "\n",
    "\n",
    "```sh\n",
    "$ pip install faculty_expertise\n",
    "```\n",
    "\n",
    "\n",
    "[repo]: https://github.com/caylor/faculty_expertise\n",
    "[docs]: https://caylor.github.io/faculty_expertise/\n",
    "[pypi]: https://pypi.org/project/faculty_expertise/\n",
    "[conda]: https://anaconda.org/caylor/faculty_expertise"
   ]
  },
  {
   "cell_type": "markdown",
   "metadata": {},
   "source": [
    "### Documentation\n",
    "\n",
    "Documentation can be found hosted on this GitHub [repository][repo]'s [pages][docs]. Additionally you can find package manager specific guidelines on [conda][conda] and [pypi][pypi] respectively.\n",
    "\n",
    "[repo]: https://github.com/caylor/faculty_expertise\n",
    "[docs]: https://caylor.github.io/faculty_expertise/\n",
    "[pypi]: https://pypi.org/project/faculty_expertise/\n",
    "[conda]: https://anaconda.org/caylor/faculty_expertise"
   ]
  },
  {
   "cell_type": "markdown",
   "metadata": {},
   "source": [
    "## Project Structure\n",
    "\n",
    "- `nbs/`: Jupyter notebooks that define the code base\n",
    "  - `00_core.ipynb`: Core data structures (Unit class)\n",
    "  - `01_scrapers.ipynb`: HTML scrapers for different department layouts\n",
    "  - `02_enrichment.ipynb`: AI enrichment and metadata extraction\n",
    "  \n",
    "- `faculty_expertise/`: Auto-generated Python modules from notebooks\n",
    "  - `core.py`: Core data structures\n",
    "  - `my_scrapers.py`: HTML scraping functions\n",
    "  - `my_enrichment.py`: AI enrichment functions\n",
    "\n",
    "- `faculty_html/`: HTML files from department websites\n",
    "- `faculty_screenshots/`: Screenshots of department pages"
   ]
  },
  {
   "cell_type": "markdown",
   "metadata": {},
   "source": [
    "## Quick Start Example"
   ]
  },
  {
   "cell_type": "code",
   "execution_count": null,
   "metadata": {},
   "outputs": [
    {
     "data": {
      "text/html": [
       "<div>\n",
       "<style scoped>\n",
       "    .dataframe tbody tr th:only-of-type {\n",
       "        vertical-align: middle;\n",
       "    }\n",
       "\n",
       "    .dataframe tbody tr th {\n",
       "        vertical-align: top;\n",
       "    }\n",
       "\n",
       "    .dataframe thead th {\n",
       "        text-align: right;\n",
       "    }\n",
       "</style>\n",
       "<table border=\"1\" class=\"dataframe\">\n",
       "  <thead>\n",
       "    <tr style=\"text-align: right;\">\n",
       "      <th></th>\n",
       "      <th>Name</th>\n",
       "      <th>Title(s)</th>\n",
       "      <th>Specialization</th>\n",
       "      <th>Email</th>\n",
       "      <th>Phone</th>\n",
       "      <th>Office</th>\n",
       "      <th>Website</th>\n",
       "      <th>Photo URL</th>\n",
       "      <th>Department</th>\n",
       "      <th>Unit</th>\n",
       "    </tr>\n",
       "  </thead>\n",
       "  <tbody>\n",
       "    <tr>\n",
       "      <th>0</th>\n",
       "      <td>Divyakant Agrawal</td>\n",
       "      <td>Distinguished Professor &amp; Chair</td>\n",
       "      <td>None</td>\n",
       "      <td>agrawal@cs.ucsb.edu</td>\n",
       "      <td>(805)893-4385</td>\n",
       "      <td>3117 Harold Frank Hall</td>\n",
       "      <td>https://www.cs.ucsb.edu/~agrawal/</td>\n",
       "      <td>None</td>\n",
       "      <td>Computer Science</td>\n",
       "      <td>Computer Science</td>\n",
       "    </tr>\n",
       "    <tr>\n",
       "      <th>1</th>\n",
       "      <td>Prabhanjan Ananth</td>\n",
       "      <td>Assistant Professor</td>\n",
       "      <td>None</td>\n",
       "      <td>prabhanjan@ucsb.edu</td>\n",
       "      <td>None</td>\n",
       "      <td>1119 Harold Frank Hall</td>\n",
       "      <td>https://sites.google.com/site/prabhanjanva/</td>\n",
       "      <td>None</td>\n",
       "      <td>Computer Science</td>\n",
       "      <td>Computer Science</td>\n",
       "    </tr>\n",
       "  </tbody>\n",
       "</table>\n",
       "</div>"
      ],
      "text/plain": [
       "                Name                         Title(s) Specialization  \\\n",
       "0  Divyakant Agrawal  Distinguished Professor & Chair           None   \n",
       "1  Prabhanjan Ananth              Assistant Professor           None   \n",
       "\n",
       "                 Email          Phone                  Office  \\\n",
       "0  agrawal@cs.ucsb.edu  (805)893-4385  3117 Harold Frank Hall   \n",
       "1  prabhanjan@ucsb.edu           None  1119 Harold Frank Hall   \n",
       "\n",
       "                                       Website Photo URL        Department  \\\n",
       "0            https://www.cs.ucsb.edu/~agrawal/      None  Computer Science   \n",
       "1  https://sites.google.com/site/prabhanjanva/      None  Computer Science   \n",
       "\n",
       "               Unit  \n",
       "0  Computer Science  \n",
       "1  Computer Science  "
      ]
     },
     "execution_count": null,
     "metadata": {},
     "output_type": "execute_result"
    }
   ],
   "source": [
    "# Scrape faculty from a department\n",
    "from faculty_expertise.core import Unit\n",
    "\n",
    "# Example code to show how to use the package\n",
    "# This will use a specialized scraper for each department based on its website structure\n",
    "unit = Unit(\"Computer Science\", \"../faculty_html/Computer_Science.html\")\n",
    "df = unit.scrape()\n",
    "df.head(2)"
   ]
  },
  {
   "cell_type": "markdown",
   "metadata": {},
   "source": [
    "### Enriching Faculty Data with AI\n",
    "\n",
    "The library can enrich faculty data with AI-powered summaries of their research expertise:"
   ]
  },
  {
   "cell_type": "code",
   "execution_count": null,
   "metadata": {},
   "outputs": [],
   "source": [
    "# OPTIONAL: Enrich with AI (requires OpenAI API key set in .env file)\n",
    "from faculty_expertise.my_enrichment import enrich_faculty_row\n",
    "\n",
    "# Example: Take first faculty member's data\n",
    "row = df.iloc[0]\n",
    "\n",
    "# This will fetch the faculty website and use OpenAI to generate a structured summary\n",
    "enriched_data = enrich_faculty_row(row)  # Uncomment to run (requires API key)"
   ]
  },
  {
   "cell_type": "code",
   "execution_count": null,
   "metadata": {},
   "outputs": [
    {
     "name": "stdout",
     "output_type": "stream",
     "text": [
      "Name                              Divyakant Agrawal\n",
      "Title(s)            Distinguished Professor & Chair\n",
      "Specialization                                 None\n",
      "Email                           agrawal@cs.ucsb.edu\n",
      "Phone                                 (805)893-4385\n",
      "Office                       3117 Harold Frank Hall\n",
      "Website           https://www.cs.ucsb.edu/~agrawal/\n",
      "Photo URL                                      None\n",
      "Department                         Computer Science\n",
      "Unit                               Computer Science\n",
      "Name: 0, dtype: object\n",
      "{'CV URL': 'https://www.cs.ucsb.edu/~agrawal/DivyAgrawalcv.pdf',\n",
      " 'Crawled URLs': ['https://www.cs.ucsb.edu/~agrawal/',\n",
      "                  'https://www.cs.ucsb.edu/~agrawal/research.html',\n",
      "                  'https://www.cs.ucsb.edu/~agrawal/DivyAgrawalcv.pdf',\n",
      "                  'https://www.cs.ucsb.edu/~agrawal/bio.html'],\n",
      " 'Disciplines': ['Computer Science', 'Information Technology', 'Data Science'],\n",
      " 'Expertise': \"Dr. Divyakant Agrawal's research focuses on enhancing \"\n",
      "              'scalability, security, and efficiency in distributed systems '\n",
      "              'and databases, particularly within cloud environments and '\n",
      "              'online social networks.',\n",
      " 'Geographic Focus': 'Global',\n",
      " 'Google Scholar URL': None,\n",
      " 'Keywords': ['Cloud Computing',\n",
      "              'Data Privacy',\n",
      "              'Online Social Networks',\n",
      "              'Database Management',\n",
      "              'Distributed Algorithms',\n",
      "              'Fault-tolerant Systems',\n",
      "              'Data Warehousing',\n",
      "              'Sensor Networks',\n",
      "              'Fraud Detection',\n",
      "              'Information Processing'],\n",
      " 'Methods': ['Top-k Queries',\n",
      "             'Dynamic Data Cubing',\n",
      "             'Nearest Neighbor Search',\n",
      "             'Skyline Queries',\n",
      "             'Data Stream Processing'],\n",
      " 'ORCID URL': None,\n",
      " 'Potential Applications': ['Enhanced Cloud Storage Solutions',\n",
      "                            'Secure Social Media Analytics',\n",
      "                            'Efficient Transaction Processing',\n",
      "                            'Improved Data Warehousing Techniques',\n",
      "                            'Advanced Fraud Detection Systems'],\n",
      " 'Research Description': \"Dr. Agrawal's work addresses critical challenges in \"\n",
      "                         'managing and processing data across distributed '\n",
      "                         'systems, emphasizing cloud computing, social media '\n",
      "                         'analysis, and data security. His research spans '\n",
      "                         'developing innovative methods for scalable, elastic, '\n",
      "                         'and autonomic data management in the cloud, ensuring '\n",
      "                         'data security and privacy, and optimizing '\n",
      "                         'transaction processing and database operations. A '\n",
      "                         'significant aspect of his work involves the '\n",
      "                         'efficient processing of top-k queries, dynamic '\n",
      "                         'multi-dimensional data cubes for interactive data '\n",
      "                         'analysis, and advanced techniques for managing '\n",
      "                         'streaming data. Through his research, Dr. Agrawal '\n",
      "                         'aims to facilitate better decision-making '\n",
      "                         'environments and improve the handling of large '\n",
      "                         \"datasets across various dimensions, ensuring data's \"\n",
      "                         'relevance and accessibility in real-time '\n",
      "                         'applications.',\n",
      " 'Research Title': 'Advanced Data Management and Processing in Distributed '\n",
      "                   'Systems',\n",
      " 'Topics': ['Cloud Computing',\n",
      "            'Social Media Analysis',\n",
      "            'Data Security',\n",
      "            'Database Systems',\n",
      "            'Distributed Systems']}\n"
     ]
    }
   ],
   "source": [
    "# Print output of enrichment in a pretty format\n",
    "from pprint import pprint\n",
    "pprint(row)\n",
    "pprint(enriched_data)"
   ]
  },
  {
   "cell_type": "markdown",
   "metadata": {},
   "source": [
    "## License\n",
    "\n",
    "This project is licensed under the MIT License - see the LICENSE file for details."
   ]
  }
 ],
 "metadata": {
  "kernelspec": {
   "display_name": "python3",
   "language": "python",
   "name": "python3"
  }
 },
 "nbformat": 4,
 "nbformat_minor": 4
}
