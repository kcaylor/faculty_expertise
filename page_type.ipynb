{
 "cells": [
  {
   "cell_type": "code",
   "execution_count": null,
   "metadata": {},
   "outputs": [],
   "source": []
  },
  {
   "cell_type": "markdown",
   "metadata": {},
   "source": [
    "# Determine the type of page"
   ]
  },
  {
   "cell_type": "code",
   "execution_count": null,
   "metadata": {},
   "outputs": [],
   "source": [
    "from bs4 import BeautifulSoup\n",
    "import os\n",
    "import re\n",
    "import glob"
   ]
  },
  {
   "cell_type": "code",
   "execution_count": null,
   "metadata": {},
   "outputs": [],
   "source": [
    "def is_geog_msi_style(html):\n",
    "    \"\"\"\n",
    "    Check if the HTML content matches the MSI style for Geography faculty.\"\n",
    "    \"\"\"\n",
    "    soup = BeautifulSoup(html, \"html.parser\")\n",
    "\n",
    "    # Check for outer faculty container\n",
    "    container = soup.find(\"div\", class_=\"view-content\")\n",
    "    if not container:\n",
    "        return False\n",
    "\n",
    "    # Loop through each faculty entry and check structure\n",
    "    for row in container.find_all(\"div\", class_=\"views-row\"):\n",
    "        has_group_first = row.find(\"div\", class_=\"group-first\") is not None\n",
    "        has_group_second = row.find(\"div\", class_=\"group-second\") is not None\n",
    "        has_media_blazy = row.find(\"div\", class_=\"media--blazy\") or row.find(\"div\", class_=\"media--image\")\n",
    "        name_block = row.find(\"div\", class_=\"group-second\")\n",
    "        has_name = name_block and name_block.find(\"h3\") and name_block.find(\"h3\").find(\"a\")\n",
    "\n",
    "        if has_group_first and has_group_second and has_media_blazy and has_name:\n",
    "            return True\n",
    "\n",
    "    return False"
   ]
  },
  {
   "cell_type": "code",
   "execution_count": null,
   "metadata": {},
   "outputs": [],
   "source": [
    "# Runme the function against every file in the faculty_html directoy\n",
    "def test_is_geog_msi_style():\n",
    "    \"\"\"\"\n",
    "    \"Test the is_geog_msi_style function against HTML files in the faculty_html directory.\n",
    "    \"\"\"\n",
    "    from pathlib import Path\n",
    "\n",
    "    faculty_html_dir = Path(\"faculty_html\")\n",
    "    for html_file in faculty_html_dir.glob(\"*.html\"):\n",
    "        with open(html_file, \"r\", encoding=\"utf-8\") as file:\n",
    "            html_content = file.read()\n",
    "            if is_geog_msi_style(html_content):\n",
    "                print(f\"{html_file} is geog_msi style\")\n",
    "            #else:\n",
    "                # print(f\"{html_file} is not geog_msi style\")"
   ]
  },
  {
   "cell_type": "code",
   "execution_count": null,
   "metadata": {},
   "outputs": [],
   "source": [
    "\n",
    "def detect_drupal_theme_robust(html_path):\n",
    "    with open(html_path, 'r', encoding='utf-8') as f:\n",
    "        soup = BeautifulSoup(f, 'html.parser')\n",
    "\n",
    "    result = {\n",
    "        \"file\": os.path.basename(html_path),\n",
    "        \"drupal_version\": None,\n",
    "        \"theme_from_meta\": None,\n",
    "        \"theme_from_stylesheet\": None,\n",
    "        \"theme_from_body_class\": None\n",
    "    }\n",
    "\n",
    "    # 1. Drupal Version\n",
    "    meta_gen = soup.find(\"meta\", attrs={\"name\": \"Generator\"})\n",
    "    if meta_gen and \"Drupal\" in meta_gen.get(\"content\", \"\"):\n",
    "        result[\"drupal_version\"] = meta_gen[\"content\"]\n",
    "\n",
    "    # 2. Theme from stylesheets\n",
    "    stylesheets = soup.find_all(\"link\", rel=\"stylesheet\")\n",
    "    themes_found = []\n",
    "    for sheet in stylesheets:\n",
    "        href = sheet.get(\"href\", \"\")\n",
    "        # Match `/themes/theme-name/` or theme-name in CSS file names\n",
    "        match = re.search(r'/themes/([^/]+)/', href)\n",
    "        if match:\n",
    "            themes_found.append(match.group(1))\n",
    "        else:\n",
    "            # Try matching `theme-name.css` if prefixed\n",
    "            match = re.search(r'/([^/]*theme[^/]*).css', href)\n",
    "            if match:\n",
    "                themes_found.append(match.group(1))\n",
    "    if themes_found:\n",
    "        result[\"theme_from_stylesheet\"] = themes_found[0]  # Return first match\n",
    "\n",
    "    # 3. Theme from body class\n",
    "    body = soup.find(\"body\")\n",
    "    if body:\n",
    "        for cls in body.get(\"class\", []):\n",
    "            if 'theme' in cls or 'ucsb' in cls or 'sands' in cls or 'brick' in cls:\n",
    "                result[\"theme_from_body_class\"] = cls\n",
    "                break\n",
    "\n",
    "    return result"
   ]
  },
  {
   "cell_type": "code",
   "execution_count": null,
   "metadata": {},
   "outputs": [],
   "source": [
    "\n",
    "html_files = glob.glob(\"faculty_html/*.html\")\n",
    "theme_results = [detect_drupal_theme_robust(f) for f in html_files]\n",
    "df_themes = pd.DataFrame(theme_results)\n",
    "df_themes.to_csv(\"detected_themes.csv\", index=False)"
   ]
  },
  {
   "cell_type": "code",
   "execution_count": null,
   "metadata": {},
   "outputs": [],
   "source": [
    "df_themes.to_csv(\"detected_themes.csv\", index=False)"
   ]
  },
  {
   "cell_type": "code",
   "execution_count": null,
   "metadata": {},
   "outputs": [
    {
     "name": "stdout",
     "output_type": "stream",
     "text": [
      "faculty_html/Physics.html is geog_msi style\n",
      "faculty_html/Molecular__Cellular__and_Developmental_Biology.html is geog_msi style\n",
      "faculty_html/Earth_Science.html is geog_msi style\n",
      "faculty_html/Economics.html is geog_msi style\n",
      "faculty_html/Developmental_Biology.html is geog_msi style\n",
      "faculty_html/Marine_Science_Graduate_Program.html is geog_msi style\n",
      "faculty_html/Ecology__Evolution__and_Marine_Biology.html is geog_msi style\n",
      "faculty_html/Electrical_and_Computer_Engineering.html is geog_msi style\n",
      "faculty_html/Geography.html is geog_msi style\n"
     ]
    }
   ],
   "source": [
    "test_is_geog_msi_style()"
   ]
  },
  {
   "cell_type": "code",
   "execution_count": null,
   "metadata": {},
   "outputs": [],
   "source": []
  }
 ],
 "metadata": {
  "kernelspec": {
   "display_name": "faculty_directory",
   "language": "python",
   "name": "python3"
  }
 },
 "nbformat": 4,
 "nbformat_minor": 2
}
